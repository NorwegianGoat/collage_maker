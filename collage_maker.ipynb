{
 "cells": [
  {
   "cell_type": "code",
   "execution_count": 1,
   "metadata": {},
   "outputs": [],
   "source": [
    "import os\n",
    "import math\n",
    "import random\n",
    "from PIL import Image, ImageChops\n",
    "import pandas as pd"
   ]
  },
  {
   "cell_type": "code",
   "execution_count": 90,
   "metadata": {},
   "outputs": [],
   "source": [
    "IMAGE_NAMES = os.listdir(\"photos\")\n",
    "IMAGE_NAMES.remove('.DS_Store')\n",
    "\n",
    "# Load images from the \"photos\" dir\n",
    "images = [Image.open(f\"photos/{image}\") for image in IMAGE_NAMES][:]\n",
    "shapes = [image.size for image in images]"
   ]
  },
  {
   "cell_type": "code",
   "execution_count": 91,
   "metadata": {},
   "outputs": [
    {
     "name": "stdout",
     "output_type": "stream",
     "text": [
      "Tot:115 Rows:12 Cols: 10\n"
     ]
    }
   ],
   "source": [
    "tot_images = len(images)\n",
    "cols = 10\n",
    "rows = math.ceil(tot_images/cols)\n",
    "print(f\"Tot:{tot_images} Rows:{rows} Cols: {cols}\")"
   ]
  },
  {
   "cell_type": "code",
   "execution_count": 92,
   "metadata": {},
   "outputs": [],
   "source": [
    "if tot_images < rows*cols:\n",
    "    # If we have missing photos to complete the image,\n",
    "    # sample randomly few images\n",
    "    missing_images =  (rows*cols) - tot_images\n",
    "\n",
    "    for i in range(missing_images):\n",
    "        img = random.randint(0, len(images))\n",
    "        images.append(images[img])"
   ]
  },
  {
   "cell_type": "code",
   "execution_count": 93,
   "metadata": {},
   "outputs": [],
   "source": [
    "thmb_dim = pd.DataFrame(shapes).min()\n",
    "\n",
    "# Reshape images using thumbnails\n",
    "img_resize = [image.thumbnail((thmb_dim[0], thmb_dim[1])) for image in images]\n",
    "\n",
    "width = math.ceil(cols * thmb_dim[0])\n",
    "height = math.ceil(rows * thmb_dim[1])\n",
    "\n",
    "#Light blue\n",
    "color = (109,172,249)\n",
    "#Purple\n",
    "#color = (98,37,153)\n",
    "\n",
    "new_image = Image.new(\"RGB\", size = (width, height), color=color)\n",
    "\n",
    "i = 0 \n",
    "# Leave space on the left and the right of the photo\n",
    "for n in range(rows):\n",
    "    for m in range(cols):\n",
    "        position = (math.ceil(m*thmb_dim[0]), math.ceil(n*thmb_dim[1]))\n",
    "        new_image.paste(images[i],position)\n",
    "        i+=1\n",
    "\n",
    "new_image.show()\n",
    "\n",
    "# Save image\n",
    "with open(\"./spaced_img.png\", mode=\"wb\") as f:\n",
    "    new_image.save(f)"
   ]
  },
  {
   "cell_type": "code",
   "execution_count": 94,
   "metadata": {},
   "outputs": [],
   "source": [
    "thmb_dim = pd.DataFrame(shapes).min()\n",
    "\n",
    "# Scale images using thumbnails\n",
    "img_resize = [image.thumbnail((thmb_dim[0], thmb_dim[1])) for image in images]\n",
    "img_resize = []\n",
    "\n",
    "# Removes the borders added by the thumbnail rescaling. This is needed to align all the\n",
    "# images on the left\n",
    "for image in images:\n",
    "    diff = ImageChops.difference(image, Image.new(\"RGB\", image.size, color=color))\n",
    "    diff = ImageChops.add(image, diff, 2, -100)\n",
    "    bbox = diff.getbbox()\n",
    "    if bbox:\n",
    "        img_resize.append(image.crop(bbox))\n",
    "\n",
    "width = math.ceil(cols * thmb_dim[0])\n",
    "height = math.ceil(rows * thmb_dim[1])\n",
    "\n",
    "#Light blue\n",
    "color = (109,172,249)\n",
    "#Purple \n",
    "#color = (98,37,153)\n",
    "\n",
    "new_image = Image.new(\"RGB\", size = (width, height), color=color)\n",
    "\n",
    "i = 0 \n",
    "for n in range(rows):\n",
    "    x = 0\n",
    "    for m in range(cols):\n",
    "        y = math.ceil(n*thmb_dim[1])\n",
    "        position = (x, y)\n",
    "        new_image.paste(images[i],position)\n",
    "        # Collapse all the photos on the left\n",
    "        x += img_resize[i].size[0]\n",
    "        i+=1\n",
    "\n",
    "new_image.show()\n",
    "\n",
    "# Save image\n",
    "with open(\"./collapsed_img.png\", mode=\"wb\") as f:\n",
    "    new_image.save(f)"
   ]
  },
  {
   "cell_type": "code",
   "execution_count": 97,
   "metadata": {},
   "outputs": [],
   "source": [
    "# Compress the final image and save it\n",
    "new_image.thumbnail((2000, 2000))\n",
    "with open(\"compressed_img.png\", mode=\"wb\") as f:\n",
    "    new_image.save(f)"
   ]
  }
 ],
 "metadata": {
  "kernelspec": {
   "display_name": "venv",
   "language": "python",
   "name": "python3"
  },
  "language_info": {
   "codemirror_mode": {
    "name": "ipython",
    "version": 3
   },
   "file_extension": ".py",
   "mimetype": "text/x-python",
   "name": "python",
   "nbconvert_exporter": "python",
   "pygments_lexer": "ipython3",
   "version": "3.11.5"
  }
 },
 "nbformat": 4,
 "nbformat_minor": 2
}
